{
 "cells": [
  {
   "cell_type": "markdown",
   "metadata": {},
   "source": [
    "# How to use Decorator"
   ]
  },
  {
   "cell_type": "code",
   "execution_count": 2,
   "metadata": {},
   "outputs": [
    {
     "data": {
      "text/plain": [
       "'\\nsyntax:\\n\\n@decorator_name\\ndef func():\\n    ...\\n    ...\\n'"
      ]
     },
     "execution_count": 2,
     "metadata": {},
     "output_type": "execute_result"
    }
   ],
   "source": [
    "'''\n",
    "syntax:\n",
    "\n",
    "@decorator_name\n",
    "def func():\n",
    "    ...\n",
    "    ...\n",
    "'''"
   ]
  },
  {
   "cell_type": "code",
   "execution_count": 7,
   "metadata": {},
   "outputs": [
    {
     "name": "stdout",
     "output_type": "stream",
     "text": [
      "This is before function decorator\n",
      "This is inside the function\n",
      "after function decorator\n"
     ]
    }
   ],
   "source": [
    "#Without using decorator\n",
    "# step -1\n",
    "def decorator_func(func1):\n",
    "#Step-2\n",
    "    def innerfunc():\n",
    "         print(\"This is before function decorator\")\n",
    "         func1()\n",
    "         print(\"after function decorator\")\n",
    "    return innerfunc  \n",
    "\n",
    "# step-3\n",
    "def function_to_be_used():\n",
    "    print(\"This is inside the function\")\n",
    "\n",
    "# Step-4\n",
    "function_to_be_used = decorator_func(function_to_be_used)\n",
    "function_to_be_used()"
   ]
  },
  {
   "cell_type": "code",
   "execution_count": 8,
   "metadata": {},
   "outputs": [
    {
     "name": "stdout",
     "output_type": "stream",
     "text": [
      "This is before function decorator\n",
      "This is inside the function\n",
      "after function decorator\n"
     ]
    }
   ],
   "source": [
    "#With using decorator\n",
    "# step -1\n",
    "def decorator_func(func1):\n",
    "#Step-2\n",
    "    def innerfunc():\n",
    "         print(\"This is before function decorator\")\n",
    "         func1()\n",
    "         print(\"after function decorator\")\n",
    "    return innerfunc  \n",
    "\n",
    "# step-3\n",
    "@decorator_func\n",
    "def function_to_be_used():\n",
    "    print(\"This is inside the function\")\n",
    "\n",
    "# Step-4\n",
    "# function_to_be_used = decorator_func(function_to_be_used)\n",
    "function_to_be_used()"
   ]
  },
  {
   "cell_type": "code",
   "execution_count": 10,
   "metadata": {},
   "outputs": [
    {
     "name": "stdout",
     "output_type": "stream",
     "text": [
      "Total time taken : 2.0009562969207764\n",
      "Total time taken : 2.002774953842163\n",
      "Total time taken : 2.0028467178344727\n"
     ]
    }
   ],
   "source": [
    "# How to calculate execution of any function\n",
    "\n",
    "import time\n",
    "import math\n",
    "def calculate_time(func):\n",
    "    def inner(*args, **kwargs):\n",
    "        begin = time.time()\n",
    "        func(*args, **kwargs)\n",
    "        end = time.time()\n",
    "        print(\"Total time taken :\", end-begin)\n",
    "    return inner\n",
    "\n",
    "@calculate_time\n",
    "def factorial(n):\n",
    "    time.sleep(2)\n",
    "    fact = math.factorial(n)\n",
    "    return fact\n",
    "    \n",
    "@calculate_time\n",
    "def sum_(n,m):\n",
    "    time.sleep(2)\n",
    "    return n+m\n",
    "\n",
    "@calculate_time\n",
    "def square(n):\n",
    "    time.sleep(2)\n",
    "    return n*n\n",
    "    \n",
    "factorial(5)\n",
    "sum_(2,3)\n",
    "square(5)"
   ]
  },
  {
   "cell_type": "code",
   "execution_count": 12,
   "metadata": {},
   "outputs": [
    {
     "name": "stdout",
     "output_type": "stream",
     "text": [
      "Before processing\n",
      "The sum of x, y\n",
      "Processing end\n"
     ]
    },
    {
     "data": {
      "text/plain": [
       "7"
      ]
     },
     "execution_count": 12,
     "metadata": {},
     "output_type": "execute_result"
    }
   ],
   "source": [
    "# Return value in decorator\n",
    "\n",
    "def deco(func):\n",
    "    def inner(*args, **kwargs):\n",
    "        print(\"Before processing\")\n",
    "        rvalue = func(*args, **kwargs)\n",
    "        print(\"Processing end\")\n",
    "        return rvalue\n",
    "    return inner\n",
    "\n",
    "@deco\n",
    "def sum_(x,y):\n",
    "    print(\"The sum of x, y\")\n",
    "    return x+y\n",
    "\n",
    "x, y = 2, 5\n",
    "sum_(x,y)"
   ]
  },
  {
   "cell_type": "code",
   "execution_count": null,
   "metadata": {},
   "outputs": [],
   "source": []
  }
 ],
 "metadata": {
  "kernelspec": {
   "display_name": "Python 3",
   "language": "python",
   "name": "python3"
  },
  "language_info": {
   "codemirror_mode": {
    "name": "ipython",
    "version": 3
   },
   "file_extension": ".py",
   "mimetype": "text/x-python",
   "name": "python",
   "nbconvert_exporter": "python",
   "pygments_lexer": "ipython3",
   "version": "3.7.5"
  }
 },
 "nbformat": 4,
 "nbformat_minor": 2
}
